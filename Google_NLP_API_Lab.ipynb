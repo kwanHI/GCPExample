{
 "cells": [
  {
   "cell_type": "markdown",
   "metadata": {},
   "source": [
    "# Google Natural Language API\n",
    "\n",
    "For this lab you will create a Compute Engine Virtual Machine.\n",
    "Please see the prior module for details on creating virtual machines.\n",
    "You will then install the Google Cloud SDK and set up Default Authorization.\n",
    "Once this is completed, you will upload a text file to a Cloud Bucket, \n",
    "then perform natural language processing on it.\n"
   ]
  },
  {
   "cell_type": "markdown",
   "metadata": {},
   "source": [
    "\n",
    "## 1. Create and Configure a Compute Engine\n",
    " * 1.1 Create a preemptible instance: \n",
    " https://cloud.google.com/compute/docs/instances/create-start-preemptible-instance\n",
    " * 1.2 Install the Cloud SDK and Python Client Tools  \n",
    "   * 1.2.1 https://cloud.google.com/sdk/docs/quickstart-linux  \n",
    "      *  **Download Cloud SDK onto VM**\n",
    "      *  `wget https://dl.google.com/dl/cloudsdk/channels/rapid/downloads/google-cloud-sdk-182.0.0-linux-x86_64.tar.gz` \n",
    "      *  **Other Cloud SDK Documentation:**\n",
    "      *  https://cloud.google.com/sdk/docs/how-to\n",
    "   * 1.2.2 **Install pip3\n",
    "       * `sudo apt install python3-pip`\n",
    "   * 1.2.2 **Install the Python Client**, use `pip3` instead of `pip`\n",
    "      * https://cloud.google.com/compute/docs/tutorials/python-guide"
   ]
  },
  {
   "cell_type": "markdown",
   "metadata": {},
   "source": [
    "# 1.2.1 download by do 1.2.1,1.2.2,1.2.3\n",
    "sudo apt-get update && sudo apt-get install google-cloud-sdk\n",
    "sudo apt install python3-pip\n",
    "pip3 install --upgrade google-api-python-client"
   ]
  },
  {
   "cell_type": "markdown",
   "metadata": {},
   "source": [
    "## 2. Create a Storage Bucket and upload a Text File into It.\n",
    "\n",
    " * 2.1 Create a text file:\n",
    "    * Go to front page of the internet: https://www.reddit.com/\n",
    "    * Find a link that looks interesting\n",
    "    * Copy all the text into a text file\n",
    " * 2.2 Create a GCP Storage Bucket\n",
    "    * See prior module or https://cloud.google.com/storage/docs/how-to\n",
    " * 2.3 Upload your text file to your new storage bucket!\n",
    "    * Ensure you make it public, just to ease the potential barriers\n",
    "    ![Bucket_TextFile.png MISSING](../images/Bucket_TextFile.png)\n"
   ]
  },
  {
   "cell_type": "markdown",
   "metadata": {},
   "source": [
    "\n",
    "## 3. Enable and Authorize the Natual Language API\n",
    "\n",
    " * 3.1 Set Up Authorization on your VM\n",
    "   *  `gcloud auth application-default login`\n",
    "\n",
    " * 3.2 Test your access to the bucket file and API using the GCloud Shell\n",
    "   * GCloud Console Icon `[ >_ ]`\n",
    "   * Run a command such as: `gcloud ml language analyze-entity-sentiment   --content-file=gs://scottgs-vision-api/TextFile.txt`\n",
    "     * The Bucket Name here was \"scottgs-vision-api\"\n",
    "     * The filename was \"TextFile.txt\"\n",
    "   * Output example (partial)\n",
    "   ![NaturalLanguage_Response.png MISSING](../images/NaturalLanguage_Response.png)\n",
    "\n",
    "\n",
    "\n",
    "\n",
    "\n"
   ]
  },
  {
   "cell_type": "markdown",
   "metadata": {},
   "source": [
    "## 4. SUBMISSION\n",
    "* Add a screenshot like the one shown above in the `step 3` for the lab submission\n",
    "\n",
    "\n",
    "![GoogleNL.jpg MISSING](../images/GoogleNL.jpg)\n"
   ]
  },
  {
   "cell_type": "markdown",
   "metadata": {},
   "source": [
    "## 5.  Contemplate Combinations With Other Modules\n",
    "  \n",
    "  * Review: https://cloud.google.com/natural-language/docs/analyzing-entity-sentiment#language-entity-sentiment-string-python\n",
    "  * Contemplate how this VM, combined with your exercise last week could begin to poll the Reddit web site\n",
    "  * Contemplate how you could structure a database or BigTable to hold the result of the _entity sentiment_ processing.\n"
   ]
  },
  {
   "cell_type": "markdown",
   "metadata": {},
   "source": [
    "## 6. Review various other examples!\n",
    "\n",
    "https://github.com/GoogleCloudPlatform/python-docs-samples/tree/master/language/cloud-client/v1\n"
   ]
  },
  {
   "cell_type": "markdown",
   "metadata": {},
   "source": [
    "## 7. Consider the Face Detection Lab.\n",
    "  * Ponder how you could convert the above link into a Notebook!"
   ]
  },
  {
   "cell_type": "markdown",
   "metadata": {},
   "source": [
    "## 99. Delete your Compute Engine and Storage Bucket!"
   ]
  }
 ],
 "metadata": {
  "kernelspec": {
   "display_name": "Python 3",
   "language": "python",
   "name": "python3"
  },
  "language_info": {
   "codemirror_mode": {
    "name": "ipython",
    "version": 3
   },
   "file_extension": ".py",
   "mimetype": "text/x-python",
   "name": "python",
   "nbconvert_exporter": "python",
   "pygments_lexer": "ipython3",
   "version": "3.6.8"
  }
 },
 "nbformat": 4,
 "nbformat_minor": 2
}
