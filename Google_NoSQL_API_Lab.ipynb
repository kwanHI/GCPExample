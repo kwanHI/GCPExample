{
 "cells": [
  {
   "cell_type": "markdown",
   "metadata": {},
   "source": [
    "# Google NoSQL Lab"
   ]
  },
  {
   "cell_type": "markdown",
   "metadata": {},
   "source": [
    "## Step 1: Setup and Test\n",
    "https://cloud.google.com/datastore/docs/quickstart\n",
    "  * **STOP** before the Clean Up step.\n"
   ]
  },
  {
   "cell_type": "markdown",
   "metadata": {},
   "source": [
    "## Step 2.a:  Create a preemptible instance and install the required packages\n",
    "\n",
    "1.Create a preemptible instance: \n",
    "\n",
    " https://cloud.google.com/compute/docs/instances/create-start-preemptible-instance \n",
    "\n",
    "2.Install the following packages\n",
    "* sudo apt install python-pip3\n",
    "\n",
    "* pip3 install --upgrade google-api-python-client\n",
    "* pip3 install --upgrade pip\n",
    "* python3 -m pip install --upgrade setuptools\n",
    "* pip3 install --no-cache-dir  --force-reinstall  grpcio\n",
    "* pip3 install  google-cloud-storage\n",
    "#pip3 install --upgrade google-cloud-datastore"
   ]
  },
  {
   "cell_type": "markdown",
   "metadata": {},
   "source": [
    "## Step 2.b: Run the following command\n",
    "\n",
    "* `gcloud auth application-default login`\n"
   ]
  },
  {
   "cell_type": "markdown",
   "metadata": {},
   "source": [
    "## Step 3: Use Google Cloud SDK Python API\n",
    " * https://cloud.google.com/datastore/docs/datastore-api-tutorial\n",
    "   * The below cells are using the Python version!\n",
    "   * First read the following cells then go to the bottom of the notebook and follow the instruction there."
   ]
  },
  {
   "cell_type": "code",
   "execution_count": 1,
   "metadata": {},
   "outputs": [],
   "source": [
    "import json\n",
    "\n",
    "import googleapiclient.discovery"
   ]
  },
  {
   "cell_type": "code",
   "execution_count": null,
   "metadata": {},
   "outputs": [],
   "source": [
    "from google.cloud import datastore\n",
    "\n",
    "\n",
    "def create_client(project_id):\n",
    "    return datastore.Client(project_id)"
   ]
  },
  {
   "cell_type": "code",
   "execution_count": null,
   "metadata": {},
   "outputs": [],
   "source": [
    "def add_task(client, description):\n",
    "    key = client.key('Task')\n",
    "\n",
    "    task = datastore.Entity(\n",
    "        key, exclude_from_indexes=['description'])\n",
    "\n",
    "    task.update({\n",
    "        'created': datetime.datetime.utcnow(),\n",
    "        'description': description,\n",
    "        'done': False\n",
    "    })\n",
    "\n",
    "    client.put(task)\n",
    "\n",
    "    return task.key"
   ]
  },
  {
   "cell_type": "code",
   "execution_count": null,
   "metadata": {},
   "outputs": [],
   "source": [
    "def mark_done(client, task_id):\n",
    "    with client.transaction():\n",
    "        key = client.key('Task', task_id)\n",
    "        task = client.get(key)\n",
    "\n",
    "        if not task:\n",
    "            raise ValueError(\n",
    "                'Task {} does not exist.'.format(task_id))\n",
    "\n",
    "        task['done'] = True\n",
    "\n",
    "        client.put(task)"
   ]
  },
  {
   "cell_type": "code",
   "execution_count": null,
   "metadata": {},
   "outputs": [],
   "source": [
    "def delete_task(client, task_id):\n",
    "    key = client.key('Task', task_id)\n",
    "    client.delete(key)"
   ]
  },
  {
   "cell_type": "code",
   "execution_count": null,
   "metadata": {},
   "outputs": [],
   "source": [
    "def list_tasks(client):\n",
    "    query = client.query(kind='Task')\n",
    "    query.order = ['created']\n",
    "\n",
    "    return list(query.fetch())"
   ]
  },
  {
   "cell_type": "code",
   "execution_count": null,
   "metadata": {},
   "outputs": [],
   "source": [
    "import requests\n",
    "requests.get('https://google.com/')"
   ]
  },
  {
   "cell_type": "code",
   "execution_count": null,
   "metadata": {
    "scrolled": false
   },
   "outputs": [],
   "source": [
    "project_id = 'cloudclassm7' # Replace it with your project ID\n",
    "gcp_client = create_client(project_id)\n",
    "results = list_tasks(gcp_client)"
   ]
  },
  {
   "cell_type": "code",
   "execution_count": null,
   "metadata": {},
   "outputs": [],
   "source": [
    "for r in results:\n",
    "    print(r)"
   ]
  },
  {
   "cell_type": "markdown",
   "metadata": {},
   "source": [
    "## Step 4: When you are ready, let's export this\n",
    "   1. Open terminal\n",
    "   2. Change into course, module6, practices folder\n",
    "   3. Convert to a script: `jupyter-nbconvert --to script Google_NoSQL_API_Lab.ipynb`\n",
    "    ```\n",
    "        [NbConvertApp] Converting notebook Google_NoSQL_API_Lab.ipynb to script\n",
    "        [NbConvertApp] Writing 2177 bytes to Google_NoSQL_API_Lab.py\n",
    "    ``` \n",
    "#### Move the generated script using `scp` or copy and paste techniques to get it to your VM."
   ]
  },
  {
   "cell_type": "code",
   "execution_count": null,
   "metadata": {},
   "outputs": [],
   "source": [
    "import json\n",
    "import googleapiclient.discovery\n",
    "from google.cloud import datastore\n",
    "\n",
    "\n",
    "def create_client(project_id):\n",
    "    return datastore.Client(project_id)\n",
    "\n",
    "def add_task(client, description):\n",
    "    key = client.key('Task')\n",
    "\n",
    "    task = datastore.Entity(\n",
    "        key, exclude_from_indexes=['description'])\n",
    "\n",
    "    task.update({\n",
    "        'created': datetime.datetime.utcnow(),\n",
    "        'description': description,\n",
    "        'done': False\n",
    "    })\n",
    "\n",
    "    client.put(task)\n",
    "    return task.key\n",
    "\n",
    "def mark_done(client, task_id):\n",
    "    with client.transaction():\n",
    "        key = client.key('Task', task_id)\n",
    "        task = client.get(key)\n",
    "\n",
    "        if not task:\n",
    "            raise ValueError(\n",
    "                'Task {} does not exist.'.format(task_id))\n",
    "\n",
    "        task['done'] = True\n",
    "        client.put(task)\n",
    "        \n",
    "def delete_task(client, task_id):\n",
    "    key = client.key('Task', task_id)\n",
    "    client.delete(key)    \n",
    "    \n",
    "    \n",
    "def list_tasks(client):\n",
    "    query = client.query(kind='Task')\n",
    "    query.order = ['created']\n",
    "\n",
    "    return list(query.fetch())  \n",
    "\n",
    "\n",
    "import requests\n",
    "requests.get('https://google.com/')\n",
    "\n",
    "project_id = 'yourprojectid' # Replace it with your project ID\n",
    "\n",
    "gcp_client = create_client(project_id)\n",
    "\n",
    "results = list_tasks(gcp_client)\n",
    "for r in results:\n",
    "    print(r)"
   ]
  },
  {
   "cell_type": "markdown",
   "metadata": {},
   "source": [
    "## Step 5: Run the your code in the Google VM instance\n",
    " * Your output should be similar to the screenshot\n",
    " \n",
    " \n",
    " \n",
    " ![nosql-python.png](../images/nosql-python.png)"
   ]
  },
  {
   "cell_type": "markdown",
   "metadata": {},
   "source": [
    "## Step 6: SUBMISSION\n",
    "* Add a screenshot like the one shown above in the `step 5` for the lab submission\n",
    "\n",
    "\n",
    "![Module7NoSQL.png SCREENSHOT](../images/Module7NoSQL.png)\n"
   ]
  },
  {
   "cell_type": "markdown",
   "metadata": {},
   "source": [
    "# Complete the Clean Up step to remove your NoSQL resource"
   ]
  }
 ],
 "metadata": {
  "kernelspec": {
   "display_name": "Python 3",
   "language": "python",
   "name": "python3"
  },
  "language_info": {
   "codemirror_mode": {
    "name": "ipython",
    "version": 3
   },
   "file_extension": ".py",
   "mimetype": "text/x-python",
   "name": "python",
   "nbconvert_exporter": "python",
   "pygments_lexer": "ipython3",
   "version": "3.6.8"
  }
 },
 "nbformat": 4,
 "nbformat_minor": 2
}
